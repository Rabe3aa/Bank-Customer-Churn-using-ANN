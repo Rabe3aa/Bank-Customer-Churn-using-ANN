{
  "nbformat": 4,
  "nbformat_minor": 0,
  "metadata": {
    "colab": {
      "name": "Bank customer churn using ANN.ipynb",
      "provenance": [],
      "collapsed_sections": []
    },
    "kernelspec": {
      "name": "python3",
      "display_name": "Python 3"
    },
    "language_info": {
      "name": "python"
    }
  },
  "cells": [
    {
      "cell_type": "code",
      "metadata": {
        "id": "ElhPLyIY2Ww2"
      },
      "source": [
        "import numpy as np\n",
        "import pandas as pd\n",
        "import matplotlib.pyplot as plt\n",
        "from tensorflow import keras"
      ],
      "execution_count": 9,
      "outputs": []
    },
    {
      "cell_type": "code",
      "metadata": {
        "id": "QLdJQEV43Obs"
      },
      "source": [
        "df = pd.read_csv('/content/Churn_Modelling.csv')"
      ],
      "execution_count": 10,
      "outputs": []
    },
    {
      "cell_type": "code",
      "metadata": {
        "colab": {
          "base_uri": "https://localhost:8080/",
          "height": 226
        },
        "id": "-UiHHQP-3Txx",
        "outputId": "a682baf5-1fd1-4626-e0b8-f107541e821a"
      },
      "source": [
        "df.head()"
      ],
      "execution_count": 11,
      "outputs": [
        {
          "output_type": "execute_result",
          "data": {
            "text/html": [
              "<div>\n",
              "<style scoped>\n",
              "    .dataframe tbody tr th:only-of-type {\n",
              "        vertical-align: middle;\n",
              "    }\n",
              "\n",
              "    .dataframe tbody tr th {\n",
              "        vertical-align: top;\n",
              "    }\n",
              "\n",
              "    .dataframe thead th {\n",
              "        text-align: right;\n",
              "    }\n",
              "</style>\n",
              "<table border=\"1\" class=\"dataframe\">\n",
              "  <thead>\n",
              "    <tr style=\"text-align: right;\">\n",
              "      <th></th>\n",
              "      <th>RowNumber</th>\n",
              "      <th>CustomerId</th>\n",
              "      <th>Surname</th>\n",
              "      <th>CreditScore</th>\n",
              "      <th>Geography</th>\n",
              "      <th>Gender</th>\n",
              "      <th>Age</th>\n",
              "      <th>Tenure</th>\n",
              "      <th>Balance</th>\n",
              "      <th>NumOfProducts</th>\n",
              "      <th>HasCrCard</th>\n",
              "      <th>IsActiveMember</th>\n",
              "      <th>EstimatedSalary</th>\n",
              "      <th>Exited</th>\n",
              "    </tr>\n",
              "  </thead>\n",
              "  <tbody>\n",
              "    <tr>\n",
              "      <th>0</th>\n",
              "      <td>1</td>\n",
              "      <td>15634602</td>\n",
              "      <td>Hargrave</td>\n",
              "      <td>619</td>\n",
              "      <td>France</td>\n",
              "      <td>Female</td>\n",
              "      <td>42</td>\n",
              "      <td>2</td>\n",
              "      <td>0.00</td>\n",
              "      <td>1</td>\n",
              "      <td>1</td>\n",
              "      <td>1</td>\n",
              "      <td>101348.88</td>\n",
              "      <td>1</td>\n",
              "    </tr>\n",
              "    <tr>\n",
              "      <th>1</th>\n",
              "      <td>2</td>\n",
              "      <td>15647311</td>\n",
              "      <td>Hill</td>\n",
              "      <td>608</td>\n",
              "      <td>Spain</td>\n",
              "      <td>Female</td>\n",
              "      <td>41</td>\n",
              "      <td>1</td>\n",
              "      <td>83807.86</td>\n",
              "      <td>1</td>\n",
              "      <td>0</td>\n",
              "      <td>1</td>\n",
              "      <td>112542.58</td>\n",
              "      <td>0</td>\n",
              "    </tr>\n",
              "    <tr>\n",
              "      <th>2</th>\n",
              "      <td>3</td>\n",
              "      <td>15619304</td>\n",
              "      <td>Onio</td>\n",
              "      <td>502</td>\n",
              "      <td>France</td>\n",
              "      <td>Female</td>\n",
              "      <td>42</td>\n",
              "      <td>8</td>\n",
              "      <td>159660.80</td>\n",
              "      <td>3</td>\n",
              "      <td>1</td>\n",
              "      <td>0</td>\n",
              "      <td>113931.57</td>\n",
              "      <td>1</td>\n",
              "    </tr>\n",
              "    <tr>\n",
              "      <th>3</th>\n",
              "      <td>4</td>\n",
              "      <td>15701354</td>\n",
              "      <td>Boni</td>\n",
              "      <td>699</td>\n",
              "      <td>France</td>\n",
              "      <td>Female</td>\n",
              "      <td>39</td>\n",
              "      <td>1</td>\n",
              "      <td>0.00</td>\n",
              "      <td>2</td>\n",
              "      <td>0</td>\n",
              "      <td>0</td>\n",
              "      <td>93826.63</td>\n",
              "      <td>0</td>\n",
              "    </tr>\n",
              "    <tr>\n",
              "      <th>4</th>\n",
              "      <td>5</td>\n",
              "      <td>15737888</td>\n",
              "      <td>Mitchell</td>\n",
              "      <td>850</td>\n",
              "      <td>Spain</td>\n",
              "      <td>Female</td>\n",
              "      <td>43</td>\n",
              "      <td>2</td>\n",
              "      <td>125510.82</td>\n",
              "      <td>1</td>\n",
              "      <td>1</td>\n",
              "      <td>1</td>\n",
              "      <td>79084.10</td>\n",
              "      <td>0</td>\n",
              "    </tr>\n",
              "  </tbody>\n",
              "</table>\n",
              "</div>"
            ],
            "text/plain": [
              "   RowNumber  CustomerId   Surname  ...  IsActiveMember EstimatedSalary Exited\n",
              "0          1    15634602  Hargrave  ...               1       101348.88      1\n",
              "1          2    15647311      Hill  ...               1       112542.58      0\n",
              "2          3    15619304      Onio  ...               0       113931.57      1\n",
              "3          4    15701354      Boni  ...               0        93826.63      0\n",
              "4          5    15737888  Mitchell  ...               1        79084.10      0\n",
              "\n",
              "[5 rows x 14 columns]"
            ]
          },
          "metadata": {},
          "execution_count": 11
        }
      ]
    },
    {
      "cell_type": "code",
      "metadata": {
        "id": "uTseyxBW3Urh"
      },
      "source": [
        "df.drop(['RowNumber', 'CustomerId', 'Surname'], axis = 1, inplace = True)"
      ],
      "execution_count": 12,
      "outputs": []
    },
    {
      "cell_type": "code",
      "metadata": {
        "colab": {
          "base_uri": "https://localhost:8080/",
          "height": 226
        },
        "id": "l-3jbqad3xGx",
        "outputId": "6c2e59a9-16d5-45e5-e4f1-256deb6f793a"
      },
      "source": [
        "df.head()"
      ],
      "execution_count": 13,
      "outputs": [
        {
          "output_type": "execute_result",
          "data": {
            "text/html": [
              "<div>\n",
              "<style scoped>\n",
              "    .dataframe tbody tr th:only-of-type {\n",
              "        vertical-align: middle;\n",
              "    }\n",
              "\n",
              "    .dataframe tbody tr th {\n",
              "        vertical-align: top;\n",
              "    }\n",
              "\n",
              "    .dataframe thead th {\n",
              "        text-align: right;\n",
              "    }\n",
              "</style>\n",
              "<table border=\"1\" class=\"dataframe\">\n",
              "  <thead>\n",
              "    <tr style=\"text-align: right;\">\n",
              "      <th></th>\n",
              "      <th>CreditScore</th>\n",
              "      <th>Geography</th>\n",
              "      <th>Gender</th>\n",
              "      <th>Age</th>\n",
              "      <th>Tenure</th>\n",
              "      <th>Balance</th>\n",
              "      <th>NumOfProducts</th>\n",
              "      <th>HasCrCard</th>\n",
              "      <th>IsActiveMember</th>\n",
              "      <th>EstimatedSalary</th>\n",
              "      <th>Exited</th>\n",
              "    </tr>\n",
              "  </thead>\n",
              "  <tbody>\n",
              "    <tr>\n",
              "      <th>0</th>\n",
              "      <td>619</td>\n",
              "      <td>France</td>\n",
              "      <td>Female</td>\n",
              "      <td>42</td>\n",
              "      <td>2</td>\n",
              "      <td>0.00</td>\n",
              "      <td>1</td>\n",
              "      <td>1</td>\n",
              "      <td>1</td>\n",
              "      <td>101348.88</td>\n",
              "      <td>1</td>\n",
              "    </tr>\n",
              "    <tr>\n",
              "      <th>1</th>\n",
              "      <td>608</td>\n",
              "      <td>Spain</td>\n",
              "      <td>Female</td>\n",
              "      <td>41</td>\n",
              "      <td>1</td>\n",
              "      <td>83807.86</td>\n",
              "      <td>1</td>\n",
              "      <td>0</td>\n",
              "      <td>1</td>\n",
              "      <td>112542.58</td>\n",
              "      <td>0</td>\n",
              "    </tr>\n",
              "    <tr>\n",
              "      <th>2</th>\n",
              "      <td>502</td>\n",
              "      <td>France</td>\n",
              "      <td>Female</td>\n",
              "      <td>42</td>\n",
              "      <td>8</td>\n",
              "      <td>159660.80</td>\n",
              "      <td>3</td>\n",
              "      <td>1</td>\n",
              "      <td>0</td>\n",
              "      <td>113931.57</td>\n",
              "      <td>1</td>\n",
              "    </tr>\n",
              "    <tr>\n",
              "      <th>3</th>\n",
              "      <td>699</td>\n",
              "      <td>France</td>\n",
              "      <td>Female</td>\n",
              "      <td>39</td>\n",
              "      <td>1</td>\n",
              "      <td>0.00</td>\n",
              "      <td>2</td>\n",
              "      <td>0</td>\n",
              "      <td>0</td>\n",
              "      <td>93826.63</td>\n",
              "      <td>0</td>\n",
              "    </tr>\n",
              "    <tr>\n",
              "      <th>4</th>\n",
              "      <td>850</td>\n",
              "      <td>Spain</td>\n",
              "      <td>Female</td>\n",
              "      <td>43</td>\n",
              "      <td>2</td>\n",
              "      <td>125510.82</td>\n",
              "      <td>1</td>\n",
              "      <td>1</td>\n",
              "      <td>1</td>\n",
              "      <td>79084.10</td>\n",
              "      <td>0</td>\n",
              "    </tr>\n",
              "  </tbody>\n",
              "</table>\n",
              "</div>"
            ],
            "text/plain": [
              "   CreditScore Geography  Gender  ...  IsActiveMember  EstimatedSalary  Exited\n",
              "0          619    France  Female  ...               1        101348.88       1\n",
              "1          608     Spain  Female  ...               1        112542.58       0\n",
              "2          502    France  Female  ...               0        113931.57       1\n",
              "3          699    France  Female  ...               0         93826.63       0\n",
              "4          850     Spain  Female  ...               1         79084.10       0\n",
              "\n",
              "[5 rows x 11 columns]"
            ]
          },
          "metadata": {},
          "execution_count": 13
        }
      ]
    },
    {
      "cell_type": "code",
      "metadata": {
        "colab": {
          "base_uri": "https://localhost:8080/"
        },
        "id": "BtT6U8yP4Mtd",
        "outputId": "0a2240e4-c82e-46e9-b12b-3e466b79d66f"
      },
      "source": [
        "df.isna().sum()"
      ],
      "execution_count": 14,
      "outputs": [
        {
          "output_type": "execute_result",
          "data": {
            "text/plain": [
              "CreditScore        0\n",
              "Geography          0\n",
              "Gender             0\n",
              "Age                0\n",
              "Tenure             0\n",
              "Balance            0\n",
              "NumOfProducts      0\n",
              "HasCrCard          0\n",
              "IsActiveMember     0\n",
              "EstimatedSalary    0\n",
              "Exited             0\n",
              "dtype: int64"
            ]
          },
          "metadata": {},
          "execution_count": 14
        }
      ]
    },
    {
      "cell_type": "code",
      "metadata": {
        "colab": {
          "base_uri": "https://localhost:8080/",
          "height": 320
        },
        "id": "0hqM3DRN4MrD",
        "outputId": "295885d2-baa4-4320-e551-0c3ed169aa9c"
      },
      "source": [
        "df.describe()"
      ],
      "execution_count": 15,
      "outputs": [
        {
          "output_type": "execute_result",
          "data": {
            "text/html": [
              "<div>\n",
              "<style scoped>\n",
              "    .dataframe tbody tr th:only-of-type {\n",
              "        vertical-align: middle;\n",
              "    }\n",
              "\n",
              "    .dataframe tbody tr th {\n",
              "        vertical-align: top;\n",
              "    }\n",
              "\n",
              "    .dataframe thead th {\n",
              "        text-align: right;\n",
              "    }\n",
              "</style>\n",
              "<table border=\"1\" class=\"dataframe\">\n",
              "  <thead>\n",
              "    <tr style=\"text-align: right;\">\n",
              "      <th></th>\n",
              "      <th>CreditScore</th>\n",
              "      <th>Age</th>\n",
              "      <th>Tenure</th>\n",
              "      <th>Balance</th>\n",
              "      <th>NumOfProducts</th>\n",
              "      <th>HasCrCard</th>\n",
              "      <th>IsActiveMember</th>\n",
              "      <th>EstimatedSalary</th>\n",
              "      <th>Exited</th>\n",
              "    </tr>\n",
              "  </thead>\n",
              "  <tbody>\n",
              "    <tr>\n",
              "      <th>count</th>\n",
              "      <td>10000.000000</td>\n",
              "      <td>10000.000000</td>\n",
              "      <td>10000.000000</td>\n",
              "      <td>10000.000000</td>\n",
              "      <td>10000.000000</td>\n",
              "      <td>10000.00000</td>\n",
              "      <td>10000.000000</td>\n",
              "      <td>10000.000000</td>\n",
              "      <td>10000.000000</td>\n",
              "    </tr>\n",
              "    <tr>\n",
              "      <th>mean</th>\n",
              "      <td>650.528800</td>\n",
              "      <td>38.921800</td>\n",
              "      <td>5.012800</td>\n",
              "      <td>76485.889288</td>\n",
              "      <td>1.530200</td>\n",
              "      <td>0.70550</td>\n",
              "      <td>0.515100</td>\n",
              "      <td>100090.239881</td>\n",
              "      <td>0.203700</td>\n",
              "    </tr>\n",
              "    <tr>\n",
              "      <th>std</th>\n",
              "      <td>96.653299</td>\n",
              "      <td>10.487806</td>\n",
              "      <td>2.892174</td>\n",
              "      <td>62397.405202</td>\n",
              "      <td>0.581654</td>\n",
              "      <td>0.45584</td>\n",
              "      <td>0.499797</td>\n",
              "      <td>57510.492818</td>\n",
              "      <td>0.402769</td>\n",
              "    </tr>\n",
              "    <tr>\n",
              "      <th>min</th>\n",
              "      <td>350.000000</td>\n",
              "      <td>18.000000</td>\n",
              "      <td>0.000000</td>\n",
              "      <td>0.000000</td>\n",
              "      <td>1.000000</td>\n",
              "      <td>0.00000</td>\n",
              "      <td>0.000000</td>\n",
              "      <td>11.580000</td>\n",
              "      <td>0.000000</td>\n",
              "    </tr>\n",
              "    <tr>\n",
              "      <th>25%</th>\n",
              "      <td>584.000000</td>\n",
              "      <td>32.000000</td>\n",
              "      <td>3.000000</td>\n",
              "      <td>0.000000</td>\n",
              "      <td>1.000000</td>\n",
              "      <td>0.00000</td>\n",
              "      <td>0.000000</td>\n",
              "      <td>51002.110000</td>\n",
              "      <td>0.000000</td>\n",
              "    </tr>\n",
              "    <tr>\n",
              "      <th>50%</th>\n",
              "      <td>652.000000</td>\n",
              "      <td>37.000000</td>\n",
              "      <td>5.000000</td>\n",
              "      <td>97198.540000</td>\n",
              "      <td>1.000000</td>\n",
              "      <td>1.00000</td>\n",
              "      <td>1.000000</td>\n",
              "      <td>100193.915000</td>\n",
              "      <td>0.000000</td>\n",
              "    </tr>\n",
              "    <tr>\n",
              "      <th>75%</th>\n",
              "      <td>718.000000</td>\n",
              "      <td>44.000000</td>\n",
              "      <td>7.000000</td>\n",
              "      <td>127644.240000</td>\n",
              "      <td>2.000000</td>\n",
              "      <td>1.00000</td>\n",
              "      <td>1.000000</td>\n",
              "      <td>149388.247500</td>\n",
              "      <td>0.000000</td>\n",
              "    </tr>\n",
              "    <tr>\n",
              "      <th>max</th>\n",
              "      <td>850.000000</td>\n",
              "      <td>92.000000</td>\n",
              "      <td>10.000000</td>\n",
              "      <td>250898.090000</td>\n",
              "      <td>4.000000</td>\n",
              "      <td>1.00000</td>\n",
              "      <td>1.000000</td>\n",
              "      <td>199992.480000</td>\n",
              "      <td>1.000000</td>\n",
              "    </tr>\n",
              "  </tbody>\n",
              "</table>\n",
              "</div>"
            ],
            "text/plain": [
              "        CreditScore           Age  ...  EstimatedSalary        Exited\n",
              "count  10000.000000  10000.000000  ...     10000.000000  10000.000000\n",
              "mean     650.528800     38.921800  ...    100090.239881      0.203700\n",
              "std       96.653299     10.487806  ...     57510.492818      0.402769\n",
              "min      350.000000     18.000000  ...        11.580000      0.000000\n",
              "25%      584.000000     32.000000  ...     51002.110000      0.000000\n",
              "50%      652.000000     37.000000  ...    100193.915000      0.000000\n",
              "75%      718.000000     44.000000  ...    149388.247500      0.000000\n",
              "max      850.000000     92.000000  ...    199992.480000      1.000000\n",
              "\n",
              "[8 rows x 9 columns]"
            ]
          },
          "metadata": {},
          "execution_count": 15
        }
      ]
    },
    {
      "cell_type": "code",
      "metadata": {
        "colab": {
          "base_uri": "https://localhost:8080/"
        },
        "id": "ZrV4IkVw4MpE",
        "outputId": "ec734035-1424-46b3-c0b1-ef32e3376068"
      },
      "source": [
        "df.dtypes"
      ],
      "execution_count": 16,
      "outputs": [
        {
          "output_type": "execute_result",
          "data": {
            "text/plain": [
              "CreditScore          int64\n",
              "Geography           object\n",
              "Gender              object\n",
              "Age                  int64\n",
              "Tenure               int64\n",
              "Balance            float64\n",
              "NumOfProducts        int64\n",
              "HasCrCard            int64\n",
              "IsActiveMember       int64\n",
              "EstimatedSalary    float64\n",
              "Exited               int64\n",
              "dtype: object"
            ]
          },
          "metadata": {},
          "execution_count": 16
        }
      ]
    },
    {
      "cell_type": "code",
      "metadata": {
        "colab": {
          "base_uri": "https://localhost:8080/"
        },
        "id": "YywlLTbG4Mmi",
        "outputId": "1e5bd0dc-5cb9-49ed-f322-0819675fa636"
      },
      "source": [
        "df.Geography.unique()"
      ],
      "execution_count": 17,
      "outputs": [
        {
          "output_type": "execute_result",
          "data": {
            "text/plain": [
              "array(['France', 'Spain', 'Germany'], dtype=object)"
            ]
          },
          "metadata": {},
          "execution_count": 17
        }
      ]
    },
    {
      "cell_type": "code",
      "metadata": {
        "colab": {
          "base_uri": "https://localhost:8080/",
          "height": 322
        },
        "id": "dawlgT9f5aMb",
        "outputId": "9d001427-a8ab-4b0b-b00b-41759362ffa3"
      },
      "source": [
        "df.groupby('Gender')['Exited'].sum().plot(kind='bar')"
      ],
      "execution_count": 34,
      "outputs": [
        {
          "output_type": "execute_result",
          "data": {
            "text/plain": [
              "<matplotlib.axes._subplots.AxesSubplot at 0x7f2539a9f490>"
            ]
          },
          "metadata": {},
          "execution_count": 34
        },
        {
          "output_type": "display_data",
          "data": {
            "image/png": "[encoded data removed]",
            "text/plain": [
              "<Figure size 432x288 with 1 Axes>"
            ]
          },
          "metadata": {
            "needs_background": "light"
          }
        }
      ]
    },
    {
      "cell_type": "code",
      "metadata": {
        "colab": {
          "base_uri": "https://localhost:8080/"
        },
        "id": "wPp1r_Xm5aKN",
        "outputId": "fc9b1af6-8469-41b3-8f76-1bc9f272db78"
      },
      "source": [
        "df.groupby('Gender')['EstimatedSalary'].mean()"
      ],
      "execution_count": 31,
      "outputs": [
        {
          "output_type": "execute_result",
          "data": {
            "text/plain": [
              "Gender\n",
              "Female    100601.541382\n",
              "Male       99664.576931\n",
              "Name: EstimatedSalary, dtype: float64"
            ]
          },
          "metadata": {},
          "execution_count": 31
        }
      ]
    },
    {
      "cell_type": "code",
      "metadata": {
        "colab": {
          "base_uri": "https://localhost:8080/",
          "height": 333
        },
        "id": "K_6KkWwg5aIB",
        "outputId": "2d9e5329-a1d7-4578-842c-aed17f128832"
      },
      "source": [
        "df.groupby('Gender')['Balance'].sum().plot(kind='bar')"
      ],
      "execution_count": 37,
      "outputs": [
        {
          "output_type": "execute_result",
          "data": {
            "text/plain": [
              "<matplotlib.axes._subplots.AxesSubplot at 0x7f253a1ec8d0>"
            ]
          },
          "metadata": {},
          "execution_count": 37
        },
        {
          "output_type": "display_data",
          "data": {
            "image/png": "[encoded data removed]",
            "text/plain": [
              "<Figure size 432x288 with 1 Axes>"
            ]
          },
          "metadata": {
            "needs_background": "light"
          }
        }
      ]
    },
    {
      "cell_type": "code",
      "metadata": {
        "colab": {
          "base_uri": "https://localhost:8080/",
          "height": 265
        },
        "id": "s3HCi6hp4MVq",
        "outputId": "e272e4eb-cfe4-4c41-b65a-1092a6ba36fd"
      },
      "source": [
        "df.groupby('Gender')['IsActiveMember'].mean().plot(kind='pie')"
      ],
      "execution_count": 41,
      "outputs": [
        {
          "output_type": "execute_result",
          "data": {
            "text/plain": [
              "<matplotlib.axes._subplots.AxesSubplot at 0x7f253994c1d0>"
            ]
          },
          "metadata": {},
          "execution_count": 41
        },
        {
          "output_type": "display_data",
          "data": {
            "image/png": "[encoded data removed]",
            "text/plain": [
              "<Figure size 432x288 with 1 Axes>"
            ]
          },
          "metadata": {}
        }
      ]
    },
    {
      "cell_type": "code",
      "metadata": {
        "id": "Q_X95JJI7RPI"
      },
      "source": [
        "from sklearn.preprocessing import MinMaxScaler"
      ],
      "execution_count": 45,
      "outputs": []
    },
    {
      "cell_type": "code",
      "metadata": {
        "id": "0TRPJieK5ZIx"
      },
      "source": [
        "scaler = MinMaxScaler()\n",
        "df[['CreditScore','Age','Tenure','Balance','NumOfProducts','EstimatedSalary']] = scaler.fit_transform(df[['CreditScore','Age','Tenure','Balance','NumOfProducts','EstimatedSalary']])"
      ],
      "execution_count": 47,
      "outputs": []
    },
    {
      "cell_type": "code",
      "metadata": {
        "colab": {
          "base_uri": "https://localhost:8080/",
          "height": 226
        },
        "id": "BW-Cad2h8MSj",
        "outputId": "f15e2877-ee6e-4611-d664-a31a98a1d985"
      },
      "source": [
        "df.head()"
      ],
      "execution_count": 48,
      "outputs": [
        {
          "output_type": "execute_result",
          "data": {
            "text/html": [
              "<div>\n",
              "<style scoped>\n",
              "    .dataframe tbody tr th:only-of-type {\n",
              "        vertical-align: middle;\n",
              "    }\n",
              "\n",
              "    .dataframe tbody tr th {\n",
              "        vertical-align: top;\n",
              "    }\n",
              "\n",
              "    .dataframe thead th {\n",
              "        text-align: right;\n",
              "    }\n",
              "</style>\n",
              "<table border=\"1\" class=\"dataframe\">\n",
              "  <thead>\n",
              "    <tr style=\"text-align: right;\">\n",
              "      <th></th>\n",
              "      <th>CreditScore</th>\n",
              "      <th>Geography</th>\n",
              "      <th>Gender</th>\n",
              "      <th>Age</th>\n",
              "      <th>Tenure</th>\n",
              "      <th>Balance</th>\n",
              "      <th>NumOfProducts</th>\n",
              "      <th>HasCrCard</th>\n",
              "      <th>IsActiveMember</th>\n",
              "      <th>EstimatedSalary</th>\n",
              "      <th>Exited</th>\n",
              "    </tr>\n",
              "  </thead>\n",
              "  <tbody>\n",
              "    <tr>\n",
              "      <th>0</th>\n",
              "      <td>0.538</td>\n",
              "      <td>France</td>\n",
              "      <td>Female</td>\n",
              "      <td>0.324324</td>\n",
              "      <td>0.2</td>\n",
              "      <td>0.000000</td>\n",
              "      <td>0.000000</td>\n",
              "      <td>1</td>\n",
              "      <td>1</td>\n",
              "      <td>0.506735</td>\n",
              "      <td>1</td>\n",
              "    </tr>\n",
              "    <tr>\n",
              "      <th>1</th>\n",
              "      <td>0.516</td>\n",
              "      <td>Spain</td>\n",
              "      <td>Female</td>\n",
              "      <td>0.310811</td>\n",
              "      <td>0.1</td>\n",
              "      <td>0.334031</td>\n",
              "      <td>0.000000</td>\n",
              "      <td>0</td>\n",
              "      <td>1</td>\n",
              "      <td>0.562709</td>\n",
              "      <td>0</td>\n",
              "    </tr>\n",
              "    <tr>\n",
              "      <th>2</th>\n",
              "      <td>0.304</td>\n",
              "      <td>France</td>\n",
              "      <td>Female</td>\n",
              "      <td>0.324324</td>\n",
              "      <td>0.8</td>\n",
              "      <td>0.636357</td>\n",
              "      <td>0.666667</td>\n",
              "      <td>1</td>\n",
              "      <td>0</td>\n",
              "      <td>0.569654</td>\n",
              "      <td>1</td>\n",
              "    </tr>\n",
              "    <tr>\n",
              "      <th>3</th>\n",
              "      <td>0.698</td>\n",
              "      <td>France</td>\n",
              "      <td>Female</td>\n",
              "      <td>0.283784</td>\n",
              "      <td>0.1</td>\n",
              "      <td>0.000000</td>\n",
              "      <td>0.333333</td>\n",
              "      <td>0</td>\n",
              "      <td>0</td>\n",
              "      <td>0.469120</td>\n",
              "      <td>0</td>\n",
              "    </tr>\n",
              "    <tr>\n",
              "      <th>4</th>\n",
              "      <td>1.000</td>\n",
              "      <td>Spain</td>\n",
              "      <td>Female</td>\n",
              "      <td>0.337838</td>\n",
              "      <td>0.2</td>\n",
              "      <td>0.500246</td>\n",
              "      <td>0.000000</td>\n",
              "      <td>1</td>\n",
              "      <td>1</td>\n",
              "      <td>0.395400</td>\n",
              "      <td>0</td>\n",
              "    </tr>\n",
              "  </tbody>\n",
              "</table>\n",
              "</div>"
            ],
            "text/plain": [
              "   CreditScore Geography  Gender  ...  IsActiveMember  EstimatedSalary  Exited\n",
              "0        0.538    France  Female  ...               1         0.506735       1\n",
              "1        0.516     Spain  Female  ...               1         0.562709       0\n",
              "2        0.304    France  Female  ...               0         0.569654       1\n",
              "3        0.698    France  Female  ...               0         0.469120       0\n",
              "4        1.000     Spain  Female  ...               1         0.395400       0\n",
              "\n",
              "[5 rows x 11 columns]"
            ]
          },
          "metadata": {},
          "execution_count": 48
        }
      ]
    },
    {
      "cell_type": "code",
      "metadata": {
        "id": "4mqtfhI18PFa"
      },
      "source": [
        "df.Gender.replace({'Female':0, 'Male':1}, inplace = True)"
      ],
      "execution_count": 49,
      "outputs": []
    },
    {
      "cell_type": "code",
      "metadata": {
        "id": "V6R9cGLq8gTP"
      },
      "source": [
        "df2 = pd.get_dummies(data=df, columns=['Geography'])"
      ],
      "execution_count": 51,
      "outputs": []
    },
    {
      "cell_type": "code",
      "metadata": {
        "colab": {
          "base_uri": "https://localhost:8080/",
          "height": 226
        },
        "id": "KdGYZQH98pbo",
        "outputId": "09ad3964-0ce2-4e12-d450-5573f9f5ba3c"
      },
      "source": [
        "df2.head()"
      ],
      "execution_count": 52,
      "outputs": [
        {
          "output_type": "execute_result",
          "data": {
            "text/html": [
              "<div>\n",
              "<style scoped>\n",
              "    .dataframe tbody tr th:only-of-type {\n",
              "        vertical-align: middle;\n",
              "    }\n",
              "\n",
              "    .dataframe tbody tr th {\n",
              "        vertical-align: top;\n",
              "    }\n",
              "\n",
              "    .dataframe thead th {\n",
              "        text-align: right;\n",
              "    }\n",
              "</style>\n",
              "<table border=\"1\" class=\"dataframe\">\n",
              "  <thead>\n",
              "    <tr style=\"text-align: right;\">\n",
              "      <th></th>\n",
              "      <th>CreditScore</th>\n",
              "      <th>Gender</th>\n",
              "      <th>Age</th>\n",
              "      <th>Tenure</th>\n",
              "      <th>Balance</th>\n",
              "      <th>NumOfProducts</th>\n",
              "      <th>HasCrCard</th>\n",
              "      <th>IsActiveMember</th>\n",
              "      <th>EstimatedSalary</th>\n",
              "      <th>Exited</th>\n",
              "      <th>Geography_France</th>\n",
              "      <th>Geography_Germany</th>\n",
              "      <th>Geography_Spain</th>\n",
              "    </tr>\n",
              "  </thead>\n",
              "  <tbody>\n",
              "    <tr>\n",
              "      <th>0</th>\n",
              "      <td>0.538</td>\n",
              "      <td>0</td>\n",
              "      <td>0.324324</td>\n",
              "      <td>0.2</td>\n",
              "      <td>0.000000</td>\n",
              "      <td>0.000000</td>\n",
              "      <td>1</td>\n",
              "      <td>1</td>\n",
              "      <td>0.506735</td>\n",
              "      <td>1</td>\n",
              "      <td>1</td>\n",
              "      <td>0</td>\n",
              "      <td>0</td>\n",
              "    </tr>\n",
              "    <tr>\n",
              "      <th>1</th>\n",
              "      <td>0.516</td>\n",
              "      <td>0</td>\n",
              "      <td>0.310811</td>\n",
              "      <td>0.1</td>\n",
              "      <td>0.334031</td>\n",
              "      <td>0.000000</td>\n",
              "      <td>0</td>\n",
              "      <td>1</td>\n",
              "      <td>0.562709</td>\n",
              "      <td>0</td>\n",
              "      <td>0</td>\n",
              "      <td>0</td>\n",
              "      <td>1</td>\n",
              "    </tr>\n",
              "    <tr>\n",
              "      <th>2</th>\n",
              "      <td>0.304</td>\n",
              "      <td>0</td>\n",
              "      <td>0.324324</td>\n",
              "      <td>0.8</td>\n",
              "      <td>0.636357</td>\n",
              "      <td>0.666667</td>\n",
              "      <td>1</td>\n",
              "      <td>0</td>\n",
              "      <td>0.569654</td>\n",
              "      <td>1</td>\n",
              "      <td>1</td>\n",
              "      <td>0</td>\n",
              "      <td>0</td>\n",
              "    </tr>\n",
              "    <tr>\n",
              "      <th>3</th>\n",
              "      <td>0.698</td>\n",
              "      <td>0</td>\n",
              "      <td>0.283784</td>\n",
              "      <td>0.1</td>\n",
              "      <td>0.000000</td>\n",
              "      <td>0.333333</td>\n",
              "      <td>0</td>\n",
              "      <td>0</td>\n",
              "      <td>0.469120</td>\n",
              "      <td>0</td>\n",
              "      <td>1</td>\n",
              "      <td>0</td>\n",
              "      <td>0</td>\n",
              "    </tr>\n",
              "    <tr>\n",
              "      <th>4</th>\n",
              "      <td>1.000</td>\n",
              "      <td>0</td>\n",
              "      <td>0.337838</td>\n",
              "      <td>0.2</td>\n",
              "      <td>0.500246</td>\n",
              "      <td>0.000000</td>\n",
              "      <td>1</td>\n",
              "      <td>1</td>\n",
              "      <td>0.395400</td>\n",
              "      <td>0</td>\n",
              "      <td>0</td>\n",
              "      <td>0</td>\n",
              "      <td>1</td>\n",
              "    </tr>\n",
              "  </tbody>\n",
              "</table>\n",
              "</div>"
            ],
            "text/plain": [
              "   CreditScore  Gender  ...  Geography_Germany  Geography_Spain\n",
              "0        0.538       0  ...                  0                0\n",
              "1        0.516       0  ...                  0                1\n",
              "2        0.304       0  ...                  0                0\n",
              "3        0.698       0  ...                  0                0\n",
              "4        1.000       0  ...                  0                1\n",
              "\n",
              "[5 rows x 13 columns]"
            ]
          },
          "metadata": {},
          "execution_count": 52
        }
      ]
    },
    {
      "cell_type": "code",
      "metadata": {
        "id": "wrm4ZaNI8tPH"
      },
      "source": [
        "X = df2.drop('Exited', axis =1)\n",
        "y = df2.Exited"
      ],
      "execution_count": 54,
      "outputs": []
    },
    {
      "cell_type": "code",
      "metadata": {
        "id": "LfFubJ8_82-Q"
      },
      "source": [
        "from sklearn.model_selection import train_test_split"
      ],
      "execution_count": 55,
      "outputs": []
    },
    {
      "cell_type": "code",
      "metadata": {
        "id": "jeDp545F8-vY"
      },
      "source": [
        "X_train, X_test, y_train, y_test = train_test_split(X, y, test_size = 0.2, random_state = 10)"
      ],
      "execution_count": 56,
      "outputs": []
    },
    {
      "cell_type": "code",
      "metadata": {
        "colab": {
          "base_uri": "https://localhost:8080/"
        },
        "id": "c1yQjkDH9MRJ",
        "outputId": "6c89fcc9-4faf-422a-a7da-3368d99d4d22"
      },
      "source": [
        "X_train.shape"
      ],
      "execution_count": 57,
      "outputs": [
        {
          "output_type": "execute_result",
          "data": {
            "text/plain": [
              "(8000, 12)"
            ]
          },
          "metadata": {},
          "execution_count": 57
        }
      ]
    },
    {
      "cell_type": "code",
      "metadata": {
        "id": "l_4pXHjn9Nj_"
      },
      "source": [
        "model = keras.Sequential([\n",
        "                          keras.layers.Dense(100, input_shape = (12,), activation='relu'),\n",
        "                          keras.layers.Dense(500, activation='relu'),\n",
        "                          keras.layers.Dense(1000, activation='relu'),\n",
        "                          keras.layers.Dense(5000, activation='relu'),\n",
        "                          keras.layers.Dense(1, activation='sigmoid'),\n",
        "\n",
        "])"
      ],
      "execution_count": 61,
      "outputs": []
    },
    {
      "cell_type": "code",
      "metadata": {
        "id": "XLpfh5_W9jlP"
      },
      "source": [
        "model.compile(\n",
        "    optimizer = 'adam',\n",
        "    loss = 'binary_crossentropy',\n",
        "    metrics = ['accuracy']\n",
        ")"
      ],
      "execution_count": 62,
      "outputs": []
    },
    {
      "cell_type": "code",
      "metadata": {
        "colab": {
          "base_uri": "https://localhost:8080/"
        },
        "id": "0lt7wH3f9v5P",
        "outputId": "f8fc9977-fc01-490b-a75b-9773710662ac"
      },
      "source": [
        "model.fit(X_train, y_train, epochs=100)"
      ],
      "execution_count": 64,
      "outputs": [
        {
          "output_type": "stream",
          "name": "stdout",
          "text": [
            "Epoch 1/100\n",
            "250/250 [==============================] - 16s 62ms/step - loss: 0.3446 - accuracy: 0.8631\n",
            "Epoch 2/100\n",
            "250/250 [==============================] - 15s 61ms/step - loss: 0.3374 - accuracy: 0.8644\n",
            "Epoch 3/100\n",
            "250/250 [==============================] - 15s 61ms/step - loss: 0.3329 - accuracy: 0.8656\n",
            "Epoch 4/100\n",
            "250/250 [==============================] - 15s 61ms/step - loss: 0.3279 - accuracy: 0.8644\n",
            "Epoch 5/100\n",
            "250/250 [==============================] - 15s 61ms/step - loss: 0.3306 - accuracy: 0.8634\n",
            "Epoch 6/100\n",
            "250/250 [==============================] - 15s 61ms/step - loss: 0.3250 - accuracy: 0.8652\n",
            "Epoch 7/100\n",
            "250/250 [==============================] - 15s 62ms/step - loss: 0.3216 - accuracy: 0.8673\n",
            "Epoch 8/100\n",
            "250/250 [==============================] - 15s 62ms/step - loss: 0.3225 - accuracy: 0.8681\n",
            "Epoch 9/100\n",
            "250/250 [==============================] - 15s 61ms/step - loss: 0.3170 - accuracy: 0.8691\n",
            "Epoch 10/100\n",
            "250/250 [==============================] - 15s 61ms/step - loss: 0.3138 - accuracy: 0.8739\n",
            "Epoch 11/100\n",
            "250/250 [==============================] - 15s 61ms/step - loss: 0.3081 - accuracy: 0.8735\n",
            "Epoch 12/100\n",
            "250/250 [==============================] - 15s 61ms/step - loss: 0.3102 - accuracy: 0.8746\n",
            "Epoch 13/100\n",
            "250/250 [==============================] - 15s 62ms/step - loss: 0.3024 - accuracy: 0.8727\n",
            "Epoch 14/100\n",
            "250/250 [==============================] - 15s 61ms/step - loss: 0.3041 - accuracy: 0.8723\n",
            "Epoch 15/100\n",
            "250/250 [==============================] - 15s 62ms/step - loss: 0.3005 - accuracy: 0.8770\n",
            "Epoch 16/100\n",
            "250/250 [==============================] - 15s 61ms/step - loss: 0.2967 - accuracy: 0.8746\n",
            "Epoch 17/100\n",
            "250/250 [==============================] - 15s 61ms/step - loss: 0.2933 - accuracy: 0.8783\n",
            "Epoch 18/100\n",
            "250/250 [==============================] - 15s 61ms/step - loss: 0.2890 - accuracy: 0.8802\n",
            "Epoch 19/100\n",
            "250/250 [==============================] - 15s 61ms/step - loss: 0.2873 - accuracy: 0.8811\n",
            "Epoch 20/100\n",
            "250/250 [==============================] - 15s 61ms/step - loss: 0.2834 - accuracy: 0.8814\n",
            "Epoch 21/100\n",
            "250/250 [==============================] - 15s 61ms/step - loss: 0.2764 - accuracy: 0.8855\n",
            "Epoch 22/100\n",
            "250/250 [==============================] - 15s 61ms/step - loss: 0.2725 - accuracy: 0.8864\n",
            "Epoch 23/100\n",
            "250/250 [==============================] - 15s 61ms/step - loss: 0.2705 - accuracy: 0.8864\n",
            "Epoch 24/100\n",
            "250/250 [==============================] - 15s 61ms/step - loss: 0.2664 - accuracy: 0.8892\n",
            "Epoch 25/100\n",
            "250/250 [==============================] - 15s 62ms/step - loss: 0.2605 - accuracy: 0.8911\n",
            "Epoch 26/100\n",
            "250/250 [==============================] - 15s 61ms/step - loss: 0.2592 - accuracy: 0.8924\n",
            "Epoch 27/100\n",
            "250/250 [==============================] - 15s 61ms/step - loss: 0.2523 - accuracy: 0.8917\n",
            "Epoch 28/100\n",
            "250/250 [==============================] - 15s 61ms/step - loss: 0.2454 - accuracy: 0.8932\n",
            "Epoch 29/100\n",
            "250/250 [==============================] - 15s 61ms/step - loss: 0.2422 - accuracy: 0.8974\n",
            "Epoch 30/100\n",
            "250/250 [==============================] - 15s 61ms/step - loss: 0.2345 - accuracy: 0.9011\n",
            "Epoch 31/100\n",
            "250/250 [==============================] - 15s 61ms/step - loss: 0.2276 - accuracy: 0.9019\n",
            "Epoch 32/100\n",
            "250/250 [==============================] - 15s 62ms/step - loss: 0.2295 - accuracy: 0.8991\n",
            "Epoch 33/100\n",
            "250/250 [==============================] - 15s 62ms/step - loss: 0.2213 - accuracy: 0.9057\n",
            "Epoch 34/100\n",
            "250/250 [==============================] - 15s 62ms/step - loss: 0.2139 - accuracy: 0.9070\n",
            "Epoch 35/100\n",
            "250/250 [==============================] - 15s 62ms/step - loss: 0.2152 - accuracy: 0.9074\n",
            "Epoch 36/100\n",
            "250/250 [==============================] - 15s 62ms/step - loss: 0.2036 - accuracy: 0.9111\n",
            "Epoch 37/100\n",
            "250/250 [==============================] - 15s 61ms/step - loss: 0.1990 - accuracy: 0.9115\n",
            "Epoch 38/100\n",
            "250/250 [==============================] - 15s 62ms/step - loss: 0.2007 - accuracy: 0.9112\n",
            "Epoch 39/100\n",
            "250/250 [==============================] - 15s 62ms/step - loss: 0.1899 - accuracy: 0.9161\n",
            "Epoch 40/100\n",
            "250/250 [==============================] - 16s 62ms/step - loss: 0.1931 - accuracy: 0.9179\n",
            "Epoch 41/100\n",
            "250/250 [==============================] - 16s 63ms/step - loss: 0.1886 - accuracy: 0.9172\n",
            "Epoch 42/100\n",
            "250/250 [==============================] - 16s 64ms/step - loss: 0.1749 - accuracy: 0.9227\n",
            "Epoch 43/100\n",
            "250/250 [==============================] - 16s 63ms/step - loss: 0.1750 - accuracy: 0.9243\n",
            "Epoch 44/100\n",
            "250/250 [==============================] - 16s 63ms/step - loss: 0.1675 - accuracy: 0.9262\n",
            "Epoch 45/100\n",
            "250/250 [==============================] - 15s 61ms/step - loss: 0.1654 - accuracy: 0.9269\n",
            "Epoch 46/100\n",
            "250/250 [==============================] - 15s 61ms/step - loss: 0.1609 - accuracy: 0.9301\n",
            "Epoch 47/100\n",
            "250/250 [==============================] - 15s 62ms/step - loss: 0.1542 - accuracy: 0.9319\n",
            "Epoch 48/100\n",
            "250/250 [==============================] - 15s 62ms/step - loss: 0.1469 - accuracy: 0.9346\n",
            "Epoch 49/100\n",
            "250/250 [==============================] - 15s 61ms/step - loss: 0.1385 - accuracy: 0.9411\n",
            "Epoch 50/100\n",
            "250/250 [==============================] - 15s 62ms/step - loss: 0.1425 - accuracy: 0.9374\n",
            "Epoch 51/100\n",
            "250/250 [==============================] - 15s 62ms/step - loss: 0.1337 - accuracy: 0.9410\n",
            "Epoch 52/100\n",
            "250/250 [==============================] - 15s 62ms/step - loss: 0.1400 - accuracy: 0.9409\n",
            "Epoch 53/100\n",
            "250/250 [==============================] - 15s 62ms/step - loss: 0.1267 - accuracy: 0.9423\n",
            "Epoch 54/100\n",
            "250/250 [==============================] - 16s 62ms/step - loss: 0.1189 - accuracy: 0.9474\n",
            "Epoch 55/100\n",
            "250/250 [==============================] - 15s 62ms/step - loss: 0.1292 - accuracy: 0.9430\n",
            "Epoch 56/100\n",
            "250/250 [==============================] - 15s 62ms/step - loss: 0.1290 - accuracy: 0.9441\n",
            "Epoch 57/100\n",
            "250/250 [==============================] - 15s 61ms/step - loss: 0.1217 - accuracy: 0.9489\n",
            "Epoch 58/100\n",
            "250/250 [==============================] - 15s 62ms/step - loss: 0.1088 - accuracy: 0.9538\n",
            "Epoch 59/100\n",
            "250/250 [==============================] - 15s 62ms/step - loss: 0.1119 - accuracy: 0.9539\n",
            "Epoch 60/100\n",
            "250/250 [==============================] - 15s 61ms/step - loss: 0.1231 - accuracy: 0.9477\n",
            "Epoch 61/100\n",
            "250/250 [==============================] - 15s 62ms/step - loss: 0.1095 - accuracy: 0.9498\n",
            "Epoch 62/100\n",
            "250/250 [==============================] - 16s 62ms/step - loss: 0.1011 - accuracy: 0.9570\n",
            "Epoch 63/100\n",
            "250/250 [==============================] - 16s 63ms/step - loss: 0.0879 - accuracy: 0.9607\n",
            "Epoch 64/100\n",
            "250/250 [==============================] - 16s 63ms/step - loss: 0.1011 - accuracy: 0.9566\n",
            "Epoch 65/100\n",
            "250/250 [==============================] - 15s 62ms/step - loss: 0.1116 - accuracy: 0.9561\n",
            "Epoch 66/100\n",
            "250/250 [==============================] - 15s 62ms/step - loss: 0.0850 - accuracy: 0.9638\n",
            "Epoch 67/100\n",
            "250/250 [==============================] - 15s 62ms/step - loss: 0.0868 - accuracy: 0.9643\n",
            "Epoch 68/100\n",
            "250/250 [==============================] - 15s 62ms/step - loss: 0.0952 - accuracy: 0.9579\n",
            "Epoch 69/100\n",
            "250/250 [==============================] - 15s 62ms/step - loss: 0.0967 - accuracy: 0.9616\n",
            "Epoch 70/100\n",
            "250/250 [==============================] - 16s 62ms/step - loss: 0.0799 - accuracy: 0.9635\n",
            "Epoch 71/100\n",
            "250/250 [==============================] - 16s 62ms/step - loss: 0.1015 - accuracy: 0.9585\n",
            "Epoch 72/100\n",
            "250/250 [==============================] - 16s 63ms/step - loss: 0.0752 - accuracy: 0.9686\n",
            "Epoch 73/100\n",
            "250/250 [==============================] - 16s 62ms/step - loss: 0.0743 - accuracy: 0.9688\n",
            "Epoch 74/100\n",
            "250/250 [==============================] - 16s 63ms/step - loss: 0.0832 - accuracy: 0.9647\n",
            "Epoch 75/100\n",
            "250/250 [==============================] - 16s 62ms/step - loss: 0.0749 - accuracy: 0.9693\n",
            "Epoch 76/100\n",
            "250/250 [==============================] - 15s 62ms/step - loss: 0.0749 - accuracy: 0.9706\n",
            "Epoch 77/100\n",
            "250/250 [==============================] - 15s 62ms/step - loss: 0.0728 - accuracy: 0.9680\n",
            "Epoch 78/100\n",
            "250/250 [==============================] - 16s 62ms/step - loss: 0.0733 - accuracy: 0.9714\n",
            "Epoch 79/100\n",
            "250/250 [==============================] - 16s 63ms/step - loss: 0.0689 - accuracy: 0.9686\n",
            "Epoch 80/100\n",
            "250/250 [==============================] - 16s 62ms/step - loss: 0.0777 - accuracy: 0.9685\n",
            "Epoch 81/100\n",
            "250/250 [==============================] - 16s 62ms/step - loss: 0.0834 - accuracy: 0.9674\n",
            "Epoch 82/100\n",
            "250/250 [==============================] - 16s 63ms/step - loss: 0.0691 - accuracy: 0.9731\n",
            "Epoch 83/100\n",
            "250/250 [==============================] - 16s 62ms/step - loss: 0.0648 - accuracy: 0.9736\n",
            "Epoch 84/100\n",
            "250/250 [==============================] - 15s 62ms/step - loss: 0.0623 - accuracy: 0.9759\n",
            "Epoch 85/100\n",
            "250/250 [==============================] - 15s 62ms/step - loss: 0.0715 - accuracy: 0.9701\n",
            "Epoch 86/100\n",
            "250/250 [==============================] - 16s 62ms/step - loss: 0.0588 - accuracy: 0.9753\n",
            "Epoch 87/100\n",
            "250/250 [==============================] - 16s 62ms/step - loss: 0.0504 - accuracy: 0.9799\n",
            "Epoch 88/100\n",
            "250/250 [==============================] - 15s 62ms/step - loss: 0.0668 - accuracy: 0.9724\n",
            "Epoch 89/100\n",
            "250/250 [==============================] - 16s 62ms/step - loss: 0.0507 - accuracy: 0.9795\n",
            "Epoch 90/100\n",
            "250/250 [==============================] - 16s 62ms/step - loss: 0.0524 - accuracy: 0.9776\n",
            "Epoch 91/100\n",
            "250/250 [==============================] - 16s 62ms/step - loss: 0.0500 - accuracy: 0.9797\n",
            "Epoch 92/100\n",
            "250/250 [==============================] - 16s 62ms/step - loss: 0.0686 - accuracy: 0.9743\n",
            "Epoch 93/100\n",
            "250/250 [==============================] - 16s 62ms/step - loss: 0.0456 - accuracy: 0.9822\n",
            "Epoch 94/100\n",
            "250/250 [==============================] - 16s 62ms/step - loss: 0.0529 - accuracy: 0.9793\n",
            "Epoch 95/100\n",
            "250/250 [==============================] - 15s 62ms/step - loss: 0.0518 - accuracy: 0.9808\n",
            "Epoch 96/100\n",
            "250/250 [==============================] - 15s 62ms/step - loss: 0.0638 - accuracy: 0.9759\n",
            "Epoch 97/100\n",
            "250/250 [==============================] - 15s 62ms/step - loss: 0.0635 - accuracy: 0.9751\n",
            "Epoch 98/100\n",
            "250/250 [==============================] - 15s 62ms/step - loss: 0.0556 - accuracy: 0.9803\n",
            "Epoch 99/100\n",
            "250/250 [==============================] - 15s 62ms/step - loss: 0.0426 - accuracy: 0.9840\n",
            "Epoch 100/100\n",
            "250/250 [==============================] - 16s 62ms/step - loss: 0.0522 - accuracy: 0.9809\n"
          ]
        },
        {
          "output_type": "execute_result",
          "data": {
            "text/plain": [
              "<keras.callbacks.History at 0x7f252d3c3910>"
            ]
          },
          "metadata": {},
          "execution_count": 64
        }
      ]
    },
    {
      "cell_type": "code",
      "metadata": {
        "colab": {
          "base_uri": "https://localhost:8080/"
        },
        "id": "IzQdO2nd9zeg",
        "outputId": "2b405c1a-a5d8-4142-e77f-105238dc9373"
      },
      "source": [
        "model.evaluate(X_test, y_test)"
      ],
      "execution_count": 65,
      "outputs": [
        {
          "output_type": "stream",
          "name": "stdout",
          "text": [
            "63/63 [==============================] - 1s 13ms/step - loss: 1.5101 - accuracy: 0.8110\n"
          ]
        },
        {
          "output_type": "execute_result",
          "data": {
            "text/plain": [
              "[1.5101099014282227, 0.8109999895095825]"
            ]
          },
          "metadata": {},
          "execution_count": 65
        }
      ]
    },
    {
      "cell_type": "code",
      "metadata": {
        "id": "UTwsN81FEU8v"
      },
      "source": [
        "preds = model.predict(X_test)"
      ],
      "execution_count": 66,
      "outputs": []
    },
    {
      "cell_type": "code",
      "metadata": {
        "id": "REfRNiyjFnOG"
      },
      "source": [
        "for i in range(len(preds)):\n",
        "  if preds[i] > 0.5:\n",
        "    preds[i] = 1\n",
        "  else:\n",
        "    preds[i] = 0"
      ],
      "execution_count": 73,
      "outputs": []
    },
    {
      "cell_type": "code",
      "metadata": {
        "id": "Oh7iOaoPE5-O"
      },
      "source": [
        "from sklearn.metrics import confusion_matrix\n",
        "import seaborn as sns"
      ],
      "execution_count": 74,
      "outputs": []
    },
    {
      "cell_type": "code",
      "metadata": {
        "id": "dOiMQYX2FENW"
      },
      "source": [
        "cm = confusion_matrix(y_test, preds)"
      ],
      "execution_count": 75,
      "outputs": []
    },
    {
      "cell_type": "code",
      "metadata": {
        "colab": {
          "base_uri": "https://localhost:8080/",
          "height": 282
        },
        "id": "HFTR3QJMFKk-",
        "outputId": "01292782-c063-447f-c66a-0999d3013bba"
      },
      "source": [
        "sns.heatmap(cm, annot = True)"
      ],
      "execution_count": 76,
      "outputs": [
        {
          "output_type": "execute_result",
          "data": {
            "text/plain": [
              "<matplotlib.axes._subplots.AxesSubplot at 0x7f252d32dd50>"
            ]
          },
          "metadata": {},
          "execution_count": 76
        },
        {
          "output_type": "display_data",
          "data": {
            "image/png": "[encoded data removed]",
            "text/plain": [
              "<Figure size 432x288 with 2 Axes>"
            ]
          },
          "metadata": {
            "needs_background": "light"
          }
        }
      ]
    }
  ]
}